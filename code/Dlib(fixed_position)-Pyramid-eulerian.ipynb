{
 "cells": [
  {
   "cell_type": "code",
   "execution_count": null,
   "metadata": {},
   "outputs": [],
   "source": [
    "import os\n",
    "import cv2\n",
    "import time\n",
    "import numpy as np\n",
    "import scipy.fftpack as fftpack\n",
    "from scipy import signal\n",
    "from imutils import face_utils\n",
    "import imutils\n",
    "import dlib"
   ]
  },
  {
   "cell_type": "code",
   "execution_count": null,
   "metadata": {},
   "outputs": [],
   "source": [
    "def build_laplacian_pyramid(img):\n",
    "    gaussian_pyramid = cv2.pyrDown(img)\n",
    "\n",
    "    upsampled = cv2.pyrUp(gaussian_pyramid)\n",
    "    (height, width, depth) = upsampled.shape\n",
    "    gaussian_pyramid = cv2.resize(gaussian_pyramid, (height, width))\n",
    "\n",
    "    return cv2.subtract(gaussian_pyramid, upsampled)"
   ]
  },
  {
   "cell_type": "code",
   "execution_count": null,
   "metadata": {},
   "outputs": [],
   "source": [
    "class FaceDetection(object):\n",
    "    def __init__(self):\n",
    "        self.detector = dlib.get_frontal_face_detector()\n",
    "\n",
    "    def face_detect(self, frame):\n",
    "        gray = cv2.cvtColor(frame, cv2.COLOR_BGR2GRAY)\n",
    "        rects = self.detector(gray, 0)\n",
    "        \n",
    "        if len(rects)>0:\n",
    "            (x, y, w, h) = face_utils.rect_to_bb(rects[0])\n",
    "            if y >= 0:\n",
    "                return (x, y, w, h)\n",
    "        \n",
    "        return None"
   ]
  },
  {
   "cell_type": "code",
   "execution_count": null,
   "metadata": {},
   "outputs": [],
   "source": [
    "def read_video(path, Detector):\n",
    "    cap = cv2.VideoCapture(path)\n",
    "    fps = int(cap.get(cv2.CAP_PROP_FPS))\n",
    "    video_frames = []\n",
    "    loc = None\n",
    "\n",
    "    while cap.isOpened():\n",
    "        ret, img = cap.read()\n",
    "        if not ret:\n",
    "            break\n",
    "        \n",
    "#         if img is rotated\n",
    "#         img = cv2.resize(img, (500, 500))\n",
    "#         img = imutils.rotate(img, 180)\n",
    "        \n",
    "        if loc is None:\n",
    "            loc = Detector.face_detect(img)\n",
    "        \n",
    "        if loc is not None:\n",
    "            (x, y, w, h) = loc\n",
    "            img = img[y:y+h, x:x+w]\n",
    "            video_frames.append(build_laplacian_pyramid(img))\n",
    "    \n",
    "    cap.release()\n",
    "    \n",
    "    return np.array(video_frames), fps"
   ]
  },
  {
   "cell_type": "code",
   "execution_count": null,
   "metadata": {},
   "outputs": [],
   "source": [
    "def fft_filter(video, freq_min, freq_max, fps):\n",
    "    fft = fftpack.fft(video, axis=0)\n",
    "    frequencies = fftpack.fftfreq(video.shape[0], d=1.0 / fps)\n",
    "    bound_low = (np.abs(frequencies - freq_min)).argmin()\n",
    "    bound_high = (np.abs(frequencies - freq_max)).argmin()\n",
    "    fft[:bound_low] = 0\n",
    "    fft[bound_high:-bound_high] = 0\n",
    "    fft[-bound_low:] = 0\n",
    "    iff = fftpack.ifft(fft, axis=0)\n",
    "\n",
    "    return fft, frequencies"
   ]
  },
  {
   "cell_type": "code",
   "execution_count": null,
   "metadata": {},
   "outputs": [],
   "source": [
    "def find_heart_rate(fft, freqs, freq_min, freq_max):\n",
    "    fft_maximums = []\n",
    "\n",
    "    for i in range(fft.shape[0]):\n",
    "        if freq_min <= freqs[i] <= freq_max:\n",
    "            fftMap = abs(fft[i])\n",
    "            fft_maximums.append(fftMap.max())\n",
    "        else:\n",
    "            fft_maximums.append(0)\n",
    "\n",
    "    peaks, properties = signal.find_peaks(fft_maximums)\n",
    "    max_peak = -1\n",
    "    max_freq = 0\n",
    "\n",
    "    # Find frequency with max amplitude in peaks\n",
    "    for peak in peaks:\n",
    "        if fft_maximums[peak] > max_freq:\n",
    "            max_freq = fft_maximums[peak]\n",
    "            max_peak = peak\n",
    "\n",
    "    return freqs[max_peak] * 60"
   ]
  },
  {
   "cell_type": "code",
   "execution_count": null,
   "metadata": {},
   "outputs": [],
   "source": [
    "Detector = FaceDetection()\n",
    "\n",
    "freq_min = 1\n",
    "freq_max = 1.8\n",
    "\n",
    "base = '../data'\n",
    "# file_name : fileNumber_tureHR.avi"
   ]
  },
  {
   "cell_type": "code",
   "execution_count": null,
   "metadata": {},
   "outputs": [],
   "source": [
    "for file in os.listdir(os.path.join(base)):\n",
    "    try:\n",
    "        video, fps = read_video(os.path.join(base, file), Detector)\n",
    "        fft, frequencies = fft_filter(video, freq_min, freq_max, fps)\n",
    "        heart_rate = find_heart_rate(fft, frequencies, freq_min, freq_max)\n",
    "\n",
    "        file_name = file.split('.')[0]\n",
    "        print(f\"{file_name.split('_')[0]}: {file_name.split('_')[1]} {heart_rate},\")\n",
    "    except: # if detected face is zero\n",
    "        print(f\"{file} is Error\")\n",
    "        continue"
   ]
  },
  {
   "cell_type": "markdown",
   "metadata": {},
   "source": [
    "# check the detected face"
   ]
  },
  {
   "cell_type": "code",
   "execution_count": null,
   "metadata": {},
   "outputs": [],
   "source": [
    "loc = None\n",
    "base = '../data'\n",
    "\n",
    "for file in os.listdir(base):\n",
    "    print(file)\n",
    "    cap = cv2.VideoCapture(os.path.join(base, file))\n",
    "\n",
    "    while cap.isOpened():\n",
    "        ret, img = cap.read()\n",
    "        if not ret:\n",
    "            break\n",
    "        \n",
    "        if loc is None:\n",
    "            loc = Detector.face_detect(img)\n",
    "        \n",
    "        if loc is not None:\n",
    "            (x, y, w, h) = loc\n",
    "            img = img[y:y+h, x:x+w]\n",
    "            \n",
    "        cv2.imshow('img', img)\n",
    "        if cv2.waitKey(33) > 0: \n",
    "            break\n",
    "        \n",
    "        time.sleep(0.1)\n",
    "    \n",
    "    print(\"end\")\n",
    "    cv2.destroyAllWindows()\n",
    "    cap.release()\n",
    "    \n",
    "    time.sleep(5)"
   ]
  }
 ],
 "metadata": {
  "kernelspec": {
   "display_name": "Python 3",
   "language": "python",
   "name": "python3"
  },
  "language_info": {
   "codemirror_mode": {
    "name": "ipython",
    "version": 3
   },
   "file_extension": ".py",
   "mimetype": "text/x-python",
   "name": "python",
   "nbconvert_exporter": "python",
   "pygments_lexer": "ipython3",
   "version": "3.8.1"
  }
 },
 "nbformat": 4,
 "nbformat_minor": 2
}
