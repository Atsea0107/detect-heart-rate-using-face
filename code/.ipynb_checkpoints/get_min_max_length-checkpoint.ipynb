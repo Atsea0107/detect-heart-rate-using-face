{
 "cells": [
  {
   "cell_type": "code",
   "execution_count": null,
   "metadata": {},
   "outputs": [],
   "source": [
    "import cv2\n",
    "import os"
   ]
  },
  {
   "cell_type": "code",
   "execution_count": null,
   "metadata": {},
   "outputs": [],
   "source": [
    "def get_length_video(input_path, time=True):\n",
    "    cap = cv2.VideoCapture(input_path)\n",
    "    \n",
    "    length = int(cap.get(cv2.CAP_PROP_FRAME_COUNT))\n",
    "    fps = cap.get(cv2.CAP_PROP_FPS)\n",
    "    cap.release()\n",
    "    \n",
    "    if time:\n",
    "        return length / fps\n",
    "    else:\n",
    "        return length # total number of frame"
   ]
  },
  {
   "cell_type": "code",
   "execution_count": null,
   "metadata": {},
   "outputs": [],
   "source": [
    "data = {}\n",
    "base = 'data'"
   ]
  },
  {
   "cell_type": "code",
   "execution_count": null,
   "metadata": {},
   "outputs": [],
   "source": [
    "for folder in os.listdir(base):\n",
    "    for file in os.listdir(os.path.join(base, folder)):\n",
    "        if 'avi' in file:\n",
    "            data[folder] = get_length_video(os.path.join(base, folder, file))"
   ]
  },
  {
   "cell_type": "code",
   "execution_count": null,
   "metadata": {},
   "outputs": [],
   "source": [
    "max_length = max(data.values())\n",
    "min_length = min(data.values())\n",
    "\n",
    "for key, value in data.items():\n",
    "    if max_length == value:\n",
    "        print(f\"max length: {max(data.values()) / 60}, folder: {key}\")\n",
    "    elif min_length == value:\n",
    "        print(f\"min length: {min(data.values()) / 60}, folder: {key}\")"
   ]
  }
 ],
 "metadata": {
  "kernelspec": {
   "display_name": "Python 3",
   "language": "python",
   "name": "python3"
  },
  "language_info": {
   "codemirror_mode": {
    "name": "ipython",
    "version": 3
   },
   "file_extension": ".py",
   "mimetype": "text/x-python",
   "name": "python",
   "nbconvert_exporter": "python",
   "pygments_lexer": "ipython3",
   "version": "3.8.1"
  }
 },
 "nbformat": 4,
 "nbformat_minor": 4
}
