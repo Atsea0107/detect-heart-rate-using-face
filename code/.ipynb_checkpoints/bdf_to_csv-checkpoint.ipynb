{
 "cells": [
  {
   "cell_type": "code",
   "execution_count": 1,
   "metadata": {},
   "outputs": [],
   "source": [
    "import os\n",
    "import numpy as np\n",
    "import pandas as pd\n",
    "import pyedflib"
   ]
  },
  {
   "cell_type": "code",
   "execution_count": 2,
   "metadata": {},
   "outputs": [],
   "source": [
    "base = 'data'\n",
    "\n",
    "save_path = 'bdf_extracted'\n",
    "if not os.path.isdir(os.path.join(base, save_path)):\n",
    "    os.makedirs(os.path.join(base, save_path))"
   ]
  },
  {
   "cell_type": "code",
   "execution_count": 3,
   "metadata": {},
   "outputs": [],
   "source": [
    "total_data = pd.DataFrame()\n",
    "index = 0\n",
    "for folder in os.listdir(os.path.join(base)):\n",
    "    for file in os.listdir(os.path.join(base, folder)):\n",
    "        if 'bdf' in file:\n",
    "            data = {}\n",
    "            bdf_data = pyedflib.EdfReader(os.path.join(base, folder, file))\n",
    "\n",
    "            for i, name in enumerate(bdf_data.getSignalLabels()):\n",
    "                data[name] = list(bdf_data.readSignal(i))\n",
    "            bdf_data.close()\n",
    "\n",
    "            pd_data = pd.DataFrame(data)\n",
    "            total_data.loc[index] = data\n",
    "            index += 1\n",
    "            pd_data.to_csv(os.path.join(base, folder, file.split('.')[0] + \".csv\"), index=True)\n",
    "\n",
    "            del bdf_data, pd_data\n",
    "total_data.to_csv(os.path.join(base, save_path, \"total_bdf.csv\"), index=True)"
   ]
  },
  {
   "cell_type": "code",
   "execution_count": 4,
   "metadata": {},
   "outputs": [
    {
     "ename": "SyntaxError",
     "evalue": "invalid syntax (<ipython-input-4-025c21532657>, line 1)",
     "output_type": "error",
     "traceback": [
      "\u001b[1;36m  File \u001b[1;32m\"<ipython-input-4-025c21532657>\"\u001b[1;36m, line \u001b[1;32m1\u001b[0m\n\u001b[1;33m    -----------------------------------------------------------------------------\u001b[0m\n\u001b[1;37m                                                                                 ^\u001b[0m\n\u001b[1;31mSyntaxError\u001b[0m\u001b[1;31m:\u001b[0m invalid syntax\n"
     ]
    }
   ],
   "source": [
    "-----------------------------------------------------------------------------"
   ]
  },
  {
   "cell_type": "code",
   "execution_count": null,
   "metadata": {},
   "outputs": [],
   "source": [
    "bdf_data = pyedflib.EdfReader('Part_1_S_Trial1_emotion.bdf')\n",
    "bdf_data.file_info_long()\n",
    "bdf_data.close()"
   ]
  }
 ],
 "metadata": {
  "kernelspec": {
   "display_name": "Python 3",
   "language": "python",
   "name": "python3"
  },
  "language_info": {
   "codemirror_mode": {
    "name": "ipython",
    "version": 3
   },
   "file_extension": ".py",
   "mimetype": "text/x-python",
   "name": "python",
   "nbconvert_exporter": "python",
   "pygments_lexer": "ipython3",
   "version": "3.8.1"
  }
 },
 "nbformat": 4,
 "nbformat_minor": 4
}
