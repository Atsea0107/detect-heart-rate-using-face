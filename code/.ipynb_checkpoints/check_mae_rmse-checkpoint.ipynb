{
 "cells": [
  {
   "cell_type": "code",
   "execution_count": 1,
   "metadata": {},
   "outputs": [],
   "source": [
    "from sklearn.metrics import mean_squared_error, median_absolute_error\n",
    "import pandas as pd\n",
    "import os"
   ]
  },
  {
   "cell_type": "code",
   "execution_count": 2,
   "metadata": {},
   "outputs": [],
   "source": [
    "base = '../data'\n",
    "p_folder = 'video_extracted'\n",
    "y_folder = 'true_hr'"
   ]
  },
  {
   "cell_type": "code",
   "execution_count": 3,
   "metadata": {},
   "outputs": [],
   "source": [
    "p = list()\n",
    "y = list()"
   ]
  },
  {
   "cell_type": "code",
   "execution_count": 4,
   "metadata": {},
   "outputs": [],
   "source": [
    "for p_file, y_file in zip(os.listdir(os.path.join(base, p_folder)), os.listdir(os.path.join(base, y_folder))):\n",
    "    p_data = pd.read_csv(os.path.join(base, p_folder, p_file))\n",
    "    y_data = pd.read_csv(os.path.join(base, y_folder, y_file))\n",
    "    \n",
    "    for p_hr, y_hr in zip(p_data['hr'].apply(lambda row: list(map(float, row[1:-1].split(', ')[:-1]))), y_data['hr'].apply(lambda row: list(map(float, row[1:-1].split(', ')[:-1])))):\n",
    "        for i, j in zip(p_hr, y_hr):\n",
    "            p.append(i)\n",
    "            y.append(j)"
   ]
  },
  {
   "cell_type": "code",
   "execution_count": 8,
   "metadata": {},
   "outputs": [
    {
     "name": "stdout",
     "output_type": "stream",
     "text": [
      "92.2702702702703\n",
      "6.0\n"
     ]
    }
   ],
   "source": [
    "print(f\"MSE: {median_absolute_error(p, y)}\")\n",
    "print(f\"RMSE: {mean_squared_error(p, y) ** (0.5)}\")"
   ]
  },
  {
   "cell_type": "markdown",
   "metadata": {},
   "source": [
    "--------------------------------------------------------------------------\n",
    "### data format\n",
    "file_name true predicted,"
   ]
  },
  {
   "cell_type": "code",
   "execution_count": 25,
   "metadata": {},
   "outputs": [
    {
     "name": "stdout",
     "output_type": "stream",
     "text": [
      "12 83 57.69230769230769, 3 87 56.35838150289018, 4 75 54.74452554744526, 5 81 73.42657342657343, 6 75 64.1891891891892, 7 86 99.65034965034965, 8 63 78.78151260504201, 9 92 52.94117647058823,\n"
     ]
    }
   ],
   "source": [
    "y =list()\n",
    "p = list()\n",
    "inputs = input().split(',')\n",
    "\n",
    "for i in range(len(inputs) - 1):\n",
    "    ty, tp = [float(i) for i in inputs[i].split(' ')[-2:]]\n",
    "    \n",
    "    y.append(ty)\n",
    "    p.append(tp)"
   ]
  },
  {
   "cell_type": "code",
   "execution_count": 26,
   "metadata": {},
   "outputs": [
    {
     "name": "stdout",
     "output_type": "stream",
     "text": [
      "MSE: 18.018493528798377\n",
      "RMSE: 22.707054578349673\n"
     ]
    }
   ],
   "source": [
    "print(f\"MSE: {median_absolute_error(p, y)}\")\n",
    "print(f\"RMSE: {mean_squared_error(p, y) ** (0.5)}\")"
   ]
  }
 ],
 "metadata": {
  "kernelspec": {
   "display_name": "Python 3",
   "language": "python",
   "name": "python3"
  },
  "language_info": {
   "codemirror_mode": {
    "name": "ipython",
    "version": 3
   },
   "file_extension": ".py",
   "mimetype": "text/x-python",
   "name": "python",
   "nbconvert_exporter": "python",
   "pygments_lexer": "ipython3",
   "version": "3.8.1"
  }
 },
 "nbformat": 4,
 "nbformat_minor": 4
}
