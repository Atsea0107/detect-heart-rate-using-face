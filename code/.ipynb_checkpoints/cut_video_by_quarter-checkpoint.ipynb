{
 "cells": [
  {
   "cell_type": "code",
   "execution_count": 1,
   "metadata": {},
   "outputs": [],
   "source": [
    "import cv2\n",
    "import os"
   ]
  },
  {
   "cell_type": "code",
   "execution_count": 2,
   "metadata": {},
   "outputs": [],
   "source": [
    "def process_video(input_path, output_path):\n",
    "    cap = cv2.VideoCapture(input_path)\n",
    "    index = 0\n",
    "\n",
    "    if not cap.isOpened():\n",
    "        print(\"could not open :\", input_path)\n",
    "        exit(0)\n",
    "\n",
    "    length = int(cap.get(cv2.CAP_PROP_FRAME_COUNT))\n",
    "    width = int(cap.get(cv2.CAP_PROP_FRAME_WIDTH))\n",
    "    height = int(cap.get(cv2.CAP_PROP_FRAME_HEIGHT))\n",
    "    fps = cap.get(cv2.CAP_PROP_FPS)\n",
    "    \n",
    "    fcc = cv2.VideoWriter_fourcc('D', 'I', 'V', 'X')\n",
    "    out = cv2.VideoWriter(os.path.join(output_path, str(index) + \".avi\"),\n",
    "                                       fcc, fps, (width, height))\n",
    "    \n",
    "    cut_line = length // 4\n",
    "    \n",
    "    cut_lines = [cut_line, cut_line * 2, cut_line * 3, cut_line * 5]\n",
    "\n",
    "    for i in range(length):\n",
    "        ret, frame = cap.read()\n",
    "\n",
    "        if frame is None or i >= cut_lines[index]:\n",
    "            out.release()\n",
    "            \n",
    "            cut_line+= 30\n",
    "            index += 1\n",
    "            \n",
    "            out = cv2.VideoWriter(os.path.join(output_path, str(index) + \".avi\"),\n",
    "                                   fcc, fps, (width, height))\n",
    "\n",
    "        out.write(frame)\n",
    "\n",
    "    out.release()\n",
    "    cap.release()"
   ]
  },
  {
   "cell_type": "code",
   "execution_count": 3,
   "metadata": {},
   "outputs": [],
   "source": [
    "base = \"data\"\n",
    "\n",
    "folders = os.listdir(base)\n",
    "length = len(folders)"
   ]
  },
  {
   "cell_type": "code",
   "execution_count": 4,
   "metadata": {},
   "outputs": [],
   "source": [
    "for index, folder in enumerate(folders):\n",
    "    for file in os.listdir(os.path.join(base, folder)):\n",
    "        if 'avi' in file:\n",
    "            input_path = os.path.join(base, folder, file)\n",
    "            output_path = os.path.join(base, folder)\n",
    "            \n",
    "            process_video(input_path, output_path)\n",
    "            print(f\"cut video {index}/{length}\")"
   ]
  }
 ],
 "metadata": {
  "kernelspec": {
   "display_name": "Python 3",
   "language": "python",
   "name": "python3"
  },
  "language_info": {
   "codemirror_mode": {
    "name": "ipython",
    "version": 3
   },
   "file_extension": ".py",
   "mimetype": "text/x-python",
   "name": "python",
   "nbconvert_exporter": "python",
   "pygments_lexer": "ipython3",
   "version": "3.8.1"
  }
 },
 "nbformat": 4,
 "nbformat_minor": 4
}
