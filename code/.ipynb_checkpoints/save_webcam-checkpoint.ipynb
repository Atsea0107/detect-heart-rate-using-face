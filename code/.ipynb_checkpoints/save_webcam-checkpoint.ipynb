{
 "cells": [
  {
   "cell_type": "code",
   "execution_count": 1,
   "metadata": {},
   "outputs": [],
   "source": [
    "import os\n",
    "import cv2\n",
    "import time\n",
    "import numpy as np\n",
    "import imutils"
   ]
  },
  {
   "cell_type": "code",
   "execution_count": 2,
   "metadata": {},
   "outputs": [],
   "source": [
    "base = 'data'\n",
    "save_path = 'lg_webcam'\n",
    "index = 0\n",
    "\n",
    "if not os.path.isdir(os.path.join(base, save_path)):\n",
    "    os.makedirs(os.path.join(base, save_path))"
   ]
  },
  {
   "cell_type": "code",
   "execution_count": 6,
   "metadata": {},
   "outputs": [],
   "source": [
    "cap = cv2.VideoCapture(0)\n",
    "fcc = cv2.VideoWriter_fourcc('D', 'I', 'V', 'X')\n",
    "fps = cap.get(cv2.CAP_PROP_FPS)\n",
    "width = int(cap.get(3)) \n",
    "height = int(cap.get(4))\n",
    "\n",
    "out = cv2.VideoWriter(os.path.join(base, save_path, str(index)+'.avi'), fcc, fps, (width, height))\n",
    "\n",
    "while True: \n",
    "    ret, frame = cap.read()\n",
    "    \n",
    "    cv2.imshow('video', frame)\n",
    "    out.write(frame)\n",
    "    \n",
    "    if cv2.waitKey(33) > 0 : \n",
    "        break \n",
    "\n",
    "cap.release()\n",
    "out.release()\n",
    "cv2.destroyAllWindows()\n",
    "index+=1"
   ]
  }
 ],
 "metadata": {
  "kernelspec": {
   "display_name": "Python 3",
   "language": "python",
   "name": "python3"
  },
  "language_info": {
   "codemirror_mode": {
    "name": "ipython",
    "version": 3
   },
   "file_extension": ".py",
   "mimetype": "text/x-python",
   "name": "python",
   "nbconvert_exporter": "python",
   "pygments_lexer": "ipython3",
   "version": "3.8.1"
  }
 },
 "nbformat": 4,
 "nbformat_minor": 4
}
