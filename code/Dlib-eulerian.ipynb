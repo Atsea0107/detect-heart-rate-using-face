{
 "cells": [
  {
   "cell_type": "code",
   "execution_count": null,
   "metadata": {},
   "outputs": [],
   "source": [
    "import os\n",
    "import cv2\n",
    "import time\n",
    "import numpy as np\n",
    "import scipy.fftpack as fftpack\n",
    "from scipy import signal\n",
    "from imutils import face_utils\n",
    "import imutils\n",
    "import dlib"
   ]
  },
  {
   "cell_type": "code",
   "execution_count": null,
   "metadata": {},
   "outputs": [],
   "source": [
    "class FaceDetection(object):\n",
    "    def __init__(self):\n",
    "        self.detector = dlib.get_frontal_face_detector()\n",
    "        self.predictor = dlib.shape_predictor(\"shape_predictor_68_face_landmarks.dat\")\n",
    "        self.fa = face_utils.FaceAligner(self.predictor, desiredFaceWidth=256)\n",
    "\n",
    "    def face_detect(self, frame):\n",
    "        status = False\n",
    "        \n",
    "        if frame is None:\n",
    "            return None\n",
    "            \n",
    "        gray = cv2.cvtColor(frame, cv2.COLOR_BGR2GRAY)\n",
    "        rects = self.detector(gray, 0)\n",
    "        \n",
    "        if len(rects)>0:\n",
    "            status = True\n",
    "\n",
    "            (x, y, w, h) = face_utils.rect_to_bb(rects[0])\n",
    "            if y<0:\n",
    "                return None\n",
    "            face_frame = frame[y:y+h,x:x+w]\n",
    "            \n",
    "            if(face_frame.shape[:2][1] != 0):\n",
    "                face_frame = imutils.resize(face_frame,width=256)\n",
    "                \n",
    "            face_frame = self.fa.align(frame,gray,rects[0]) # align face\n",
    "            return face_frame\n",
    "        else:\n",
    "            return None"
   ]
  },
  {
   "cell_type": "code",
   "execution_count": null,
   "metadata": {},
   "outputs": [],
   "source": [
    "def read_video(path, Detector):\n",
    "    cap = cv2.VideoCapture(path)\n",
    "    fps = int(cap.get(cv2.CAP_PROP_FPS))\n",
    "    video_frames = []\n",
    "    check = True\n",
    "\n",
    "    while cap.isOpened():\n",
    "        ret, img = cap.read()\n",
    "        if not ret:\n",
    "            break\n",
    "        \n",
    "        face_detector = Detector.face_detect(img)\n",
    "        if face_detector is not None:\n",
    "            video_frames.append(face_detector)\n",
    "    \n",
    "    cap.release()\n",
    "    \n",
    "    return np.array(video_frames), fps"
   ]
  },
  {
   "cell_type": "code",
   "execution_count": null,
   "metadata": {},
   "outputs": [],
   "source": [
    "def fft_filter(video, freq_min, freq_max, fps):\n",
    "    fft = fftpack.fft(video, axis=0)\n",
    "    frequencies = fftpack.fftfreq(video.shape[0], d=1.0 / fps)\n",
    "    bound_low = (np.abs(frequencies - freq_min)).argmin()\n",
    "    bound_high = (np.abs(frequencies - freq_max)).argmin()\n",
    "    fft[:bound_low] = 0\n",
    "    fft[bound_high:-bound_high] = 0\n",
    "    fft[-bound_low:] = 0\n",
    "    iff = fftpack.ifft(fft, axis=0)\n",
    "\n",
    "    return fft, frequencies"
   ]
  },
  {
   "cell_type": "code",
   "execution_count": null,
   "metadata": {},
   "outputs": [],
   "source": [
    "def find_heart_rate(fft, freqs, freq_min, freq_max):\n",
    "    fft_maximums = []\n",
    "\n",
    "    for i in range(fft.shape[0]):\n",
    "        if freq_min <= freqs[i] <= freq_max:\n",
    "            fftMap = abs(fft[i])\n",
    "            fft_maximums.append(fftMap.max())\n",
    "        else:\n",
    "            fft_maximums.append(0)\n",
    "\n",
    "    peaks, properties = signal.find_peaks(fft_maximums)\n",
    "    max_peak = -1\n",
    "    max_freq = 0\n",
    "\n",
    "    for peak in peaks:\n",
    "        if fft_maximums[peak] > max_freq:\n",
    "            max_freq = fft_maximums[peak]\n",
    "            max_peak = peak\n",
    "\n",
    "    return freqs[max_peak] * 60"
   ]
  },
  {
   "cell_type": "code",
   "execution_count": null,
   "metadata": {},
   "outputs": [],
   "source": [
    "Detector = FaceDetection()\n",
    "freq_min = 1\n",
    "freq_max = 1.8\n",
    "\n",
    "base = '../data/'\n",
    "# file_name : fileNumber_tureHR.avi"
   ]
  },
  {
   "cell_type": "code",
   "execution_count": null,
   "metadata": {},
   "outputs": [],
   "source": [
    "for file in os.listdir(os.path.join(base)):\n",
    "    video, fps = read_video(os.path.join(base, file), Detector)\n",
    "    fft, frequencies = fft_filter(video, freq_min, freq_max, fps)\n",
    "    heart_rate = find_heart_rate(fft, frequencies, freq_min, freq_max)\n",
    "\n",
    "    file_name = file.split('.')[0]\n",
    "    print(f\"{file_name.split('_')[0]}: {file_name.split('_')[1]} {heart_rate},\")"
   ]
  },
  {
   "cell_type": "markdown",
   "metadata": {},
   "source": [
    "# check the detected face"
   ]
  },
  {
   "cell_type": "code",
   "execution_count": null,
   "metadata": {},
   "outputs": [],
   "source": [
    "for file in os.listdir(base):\n",
    "    print(file)\n",
    "    cap = cv2.VideoCapture(os.path.join(base, file))\n",
    "\n",
    "    while cap.isOpened():\n",
    "        ret, img = cap.read()\n",
    "        if not ret:\n",
    "            break\n",
    "        \n",
    "        face_detector = Detector.face_detect(img)\n",
    "        if face_detector is not None:\n",
    "            img = face_detector\n",
    "        \n",
    "        cv2.imshow('img', img)\n",
    "        if cv2.waitKey(33) > 0: \n",
    "            break\n",
    "            \n",
    "    print(\"end\")\n",
    "    cv2.destroyAllWindows()\n",
    "    cap.release()\n",
    "    \n",
    "    time.sleep(5)"
   ]
  }
 ],
 "metadata": {
  "kernelspec": {
   "display_name": "Python 3",
   "language": "python",
   "name": "python3"
  },
  "language_info": {
   "codemirror_mode": {
    "name": "ipython",
    "version": 3
   },
   "file_extension": ".py",
   "mimetype": "text/x-python",
   "name": "python",
   "nbconvert_exporter": "python",
   "pygments_lexer": "ipython3",
   "version": "3.8.1"
  }
 },
 "nbformat": 4,
 "nbformat_minor": 2
}
